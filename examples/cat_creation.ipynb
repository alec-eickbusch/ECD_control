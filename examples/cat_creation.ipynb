{
 "metadata": {
  "language_info": {
   "codemirror_mode": {
    "name": "ipython",
    "version": 3
   },
   "file_extension": ".py",
   "mimetype": "text/x-python",
   "name": "python",
   "nbconvert_exporter": "python",
   "pygments_lexer": "ipython3",
   "version": "3.7.8-final"
  },
  "orig_nbformat": 2,
  "kernelspec": {
   "name": "Python 3.7.8 64-bit ('opt': conda)",
   "display_name": "Python 3.7.8 64-bit ('opt': conda)",
   "metadata": {
    "interpreter": {
     "hash": "3e13ed3432761fc59a4a9b457fbf3f96074750791754ae943b7a2ec348e7309f"
    }
   }
  }
 },
 "nbformat": 4,
 "nbformat_minor": 2,
 "cells": [
  {
   "cell_type": "code",
   "execution_count": null,
   "metadata": {},
   "outputs": [],
   "source": [
    "%load_ext autoreload\n",
    "%autoreload 2\n",
    "import numpy as np\n",
    "import qutip as qt \n",
    "from CD_control_optimization.batch_optimizer import BatchOptimizer\n",
    "from CD_control_optimization.optimization_analysis import OptimizationAnalysis, OptimizationSweepsAnalysis\n",
    "from CD_control_optimization.optimization_sweeps import OptimizationSweeps\n",
    "import matplotlib.pyplot as plt\n",
    "from tensorflow.python.client import device_lib\n",
    "device_lib.list_local_devices()"
   ]
  },
  {
   "cell_type": "code",
   "execution_count": null,
   "metadata": {},
   "outputs": [],
   "source": [
    "#first, the optimization options.\n",
    "N = 50 #hilbert space size\n",
    "alpha_cat = 2 + 1j #desired cat alpha\n",
    "params = {\n",
    "'N_blocks' : 6, #number of blocks in circuit\n",
    "'N_multistart' : 10, #number of optimizations to run in parallel\n",
    "'epochs' : 20, #number of epochs before termination\n",
    "'epoch_size' : 10, #number of adam steps per epoch\n",
    "'learning_rate' : 0.01, #adam learning rate\n",
    "'term_fid' : 0.99, #terminal fidelitiy\n",
    "'use_displacements' : False, #use D operators in optimization\n",
    "'no_CD_end' : False, #set final CD = 0\n",
    "'dfid_stop' : 1e-6, #stop if dfid between two epochs is smaller than this number\n",
    "'beta_scale' : 3.0, #maximum |beta| for random initialization\n",
    "'alpha_scale' : 0.5, #maximum |alpha| for random initialization\n",
    "'initial_states' : [qt.tensor(qt.basis(2,0),qt.basis(N,0))],\n",
    "'target_states' : [qt.tensor(qt.basis(2,0), (qt.coherent(N,alpha_cat) + qt.coherent(N,-alpha_cat)).unit())],\n",
    "'name' : 'Cat creation', #name for printing and saving\n",
    "'filename' : None, \n",
    "#if no filename specified, will be saved in this folder with default name #\"name.h5\" \n",
    "'alpha_cat' : alpha_cat, #note: can pass arbitrary parameters, will be saved\n",
    "}\n"
   ]
  },
  {
   "cell_type": "code",
   "execution_count": null,
   "metadata": {},
   "outputs": [],
   "source": [
    "#create optimization object. \n",
    "#Note that initial params will be randomized upon creation\n",
    "opt = BatchOptimizer(**params)"
   ]
  },
  {
   "cell_type": "code",
   "execution_count": null,
   "metadata": {},
   "outputs": [],
   "source": [
    "#print current info. \n",
    "opt.print_info()"
   ]
  },
  {
   "cell_type": "code",
   "execution_count": null,
   "metadata": {},
   "outputs": [],
   "source": [
    "#run optimizer.\n",
    "opt.optimize()\n",
    "#note that every time an optimizer is run, it will add to the same .h5 file in the filename, saving the data with a new timestamp"
   ]
  },
  {
   "cell_type": "code",
   "execution_count": null,
   "metadata": {},
   "outputs": [],
   "source": [
    "#now, we can analyze the results.\n",
    "#note that all data is stored as a timestamp in a .h5 file\n",
    "#You can also specify which timestamp you are analyzing. Be defult, it will use the most recent optimization in the file.\n",
    "#I would recommend using \"HDFview\" software to understand data structure\n",
    "filename = opt.filename\n",
    "analysis = OptimizationAnalysis(filename)\n",
    "analysis.print_info() #we can print info of best circuit"
   ]
  },
  {
   "cell_type": "code",
   "execution_count": null,
   "metadata": {},
   "outputs": [],
   "source": [
    "#We can plot the trajectories of the different parallel optimizations\n",
    "analysis.plot_fidelities()"
   ]
  },
  {
   "cell_type": "code",
   "execution_count": null,
   "metadata": {},
   "outputs": [],
   "source": [
    "#We can also load the best circuit, states, and other parameters (see OptimizationAnalysis class)\n",
    "best_circuit = analysis.best_circuit()\n",
    "print(best_circuit)\n",
    "target_state = analysis.target_state()\n",
    "print(target_state)"
   ]
  },
  {
   "cell_type": "code",
   "execution_count": null,
   "metadata": {},
   "outputs": [],
   "source": [
    "#Now, using the same opt object, we can sweep the number of blocks in the optimization.\n",
    "sweeper = OptimizationSweeps(opt_object=opt)\n",
    "sweeper.N_blocks_sweep(min_N_blocks=3, max_N_blocks=6, terminate=True) #\"terminate\" option specifies if it terminates sweep when term fid is met"
   ]
  },
  {
   "cell_type": "code",
   "execution_count": null,
   "metadata": {},
   "outputs": [],
   "source": [
    "#the sweep data will be nicely saved to the same h5 file. We can analyze the sweep with the sweep analysis class.\n",
    "sweep_analysis = OptimizationSweepsAnalysis(filename=filename)\n",
    "sweep_analysis.sweep_names #names of the sweeps it found in the file"
   ]
  },
  {
   "cell_type": "code",
   "execution_count": null,
   "metadata": {},
   "outputs": [],
   "source": [
    "#we can analyze how the best fidelity found depends on the sweep parameter\n",
    "sweep_analysis.plot_sweep_fidelities(log=False)"
   ]
  },
  {
   "cell_type": "code",
   "execution_count": null,
   "metadata": {},
   "outputs": [],
   "source": [
    "#there are a few other things we can plot. Better data analysis coming soon.\n",
    "analysis.plot_mag_betas()"
   ]
  },
  {
   "cell_type": "code",
   "execution_count": null,
   "metadata": {},
   "outputs": [],
   "source": [
    "analysis.plot_phase_betas()"
   ]
  },
  {
   "cell_type": "code",
   "execution_count": null,
   "metadata": {},
   "outputs": [],
   "source": [
    "analysis.plot_mag_alphas()"
   ]
  },
  {
   "cell_type": "code",
   "execution_count": null,
   "metadata": {},
   "outputs": [],
   "source": [
    "analysis.plot_phase_alphas()"
   ]
  },
  {
   "cell_type": "code",
   "execution_count": null,
   "metadata": {},
   "outputs": [],
   "source": [
    "analysis.plot_average_magnitude_alpha()"
   ]
  },
  {
   "cell_type": "code",
   "execution_count": null,
   "metadata": {},
   "outputs": [],
   "source": [
    "analysis.plot_average_magnitude_beta()"
   ]
  }
 ]
}