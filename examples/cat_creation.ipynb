{
 "metadata": {
  "language_info": {
   "codemirror_mode": {
    "name": "ipython",
    "version": 3
   },
   "file_extension": ".py",
   "mimetype": "text/x-python",
   "name": "python",
   "nbconvert_exporter": "python",
   "pygments_lexer": "ipython3",
   "version": "3.7.8-final"
  },
  "orig_nbformat": 2,
  "kernelspec": {
   "name": "Python 3.7.8 64-bit ('tf': conda)",
   "display_name": "Python 3.7.8 64-bit ('tf': conda)",
   "metadata": {
    "interpreter": {
     "hash": "71d2920abd22d2105cf569a7437ae8ea03a80d14c024bc912f9118832e4e9d96"
    }
   }
  }
 },
 "nbformat": 4,
 "nbformat_minor": 2,
 "cells": [
  {
   "cell_type": "code",
   "execution_count": null,
   "metadata": {},
   "outputs": [],
   "source": [
    "from datetime import datetime"
   ]
  },
  {
   "cell_type": "code",
   "execution_count": null,
   "metadata": {},
   "outputs": [],
   "source": [
    "datetime.now().strftime(\"%Y%m%d %I:%m:%S %p\")"
   ]
  },
  {
   "cell_type": "code",
   "execution_count": null,
   "metadata": {},
   "outputs": [],
   "source": [
    "import tensorflow as tf"
   ]
  },
  {
   "cell_type": "code",
   "execution_count": 1,
   "metadata": {},
   "outputs": [],
   "source": [
    "%load_ext autoreload\n",
    "%autoreload 2\n",
    "import numpy as np\n",
    "import qutip as qt "
   ]
  },
  {
   "cell_type": "code",
   "execution_count": 2,
   "metadata": {},
   "outputs": [
    {
     "output_type": "stream",
     "name": "stdout",
     "text": [
      "\nNeed tf version 2.3.0 or later. Using tensorflow version: 2.3.1\n\n"
     ]
    }
   ],
   "source": [
    "from CD_control_optimization.batch_optimizer import BatchOptimizer\n",
    "from CD_control_optimization.analysis import OptimizationAnalysis\n",
    "from CD_control_optimization.high_level_sweeps import OptimizationSweeps"
   ]
  },
  {
   "cell_type": "code",
   "execution_count": null,
   "metadata": {},
   "outputs": [],
   "source": [
    "import matplotlib.pyplot as plt"
   ]
  },
  {
   "cell_type": "code",
   "execution_count": null,
   "metadata": {},
   "outputs": [],
   "source": [
    "from tensorflow.python.client import device_lib\n",
    "device_lib.list_local_devices()"
   ]
  },
  {
   "cell_type": "code",
   "execution_count": 13,
   "metadata": {},
   "outputs": [],
   "source": [
    "N = 60\n",
    "N_blocks = 5\n",
    "alpha = 2 + 1j\n",
    "N_multistart = 5\n",
    "epochs = 10\n",
    "use_displacements = True\n",
    "no_CD_end = True\n",
    "initial_states = [qt.tensor(qt.basis(2,0),qt.basis(N,0))]\n",
    "#target_states = [qt.tensor(qt.basis(2,0), c.zero_logical)]\n",
    "#target_states = [qt.tensor(qt.basis(2,0),qt.basis(N,1))]\n",
    "target_states = [qt.tensor(qt.basis(2,0), (qt.coherent(N,alpha) + qt.coherent(N,-alpha)).unit())]\n",
    "desired_epsilon = 1e-3\n",
    "term_fid = 1-desired_epsilon\n",
    "dfid_stop = 1e-8\n",
    "beta_scale = 4.0\n",
    "alpha_scale = 0.5\n",
    "name='Cat Creation'"
   ]
  },
  {
   "cell_type": "code",
   "execution_count": 14,
   "metadata": {},
   "outputs": [],
   "source": [
    "opt = BatchOptimizer(initial_states=initial_states, target_states=target_states, N_blocks=N_blocks,term_fid = term_fid,\n",
    "N_multistart=N_multistart, use_displacements=use_displacements, no_CD_end=no_CD_end, dfid_stop=dfid_stop, name=name, epochs=epochs, beta_scale=beta_scale, alpha_scale=alpha_scale,\n",
    "alpha_cat=alpha)"
   ]
  },
  {
   "cell_type": "code",
   "execution_count": 15,
   "metadata": {},
   "outputs": [
    {
     "output_type": "stream",
     "name": "stdout",
     "text": [
      "optimization_type: state transfer\nN_multistart: 5\nN_blocks: 5\nterm_fid: 0.999\ndfid_stop: 1e-08\nno_CD_end: True\nname: Cat Creation\nlearning_rate: 0.01\nepoch_size: 10\nepochs: 10\nbeta_scale: 4.0\nalpha_scale: 0.5\nuse_displacements: True\ncomment: \nalpha_cat: (2+1j)\nN_cav: 60\nfilename: Cat Creation.h5\n\nBest circuit parameters found:\nbetas:         [-1.2476 +2.22012j -1.11374+1.7278j   0.72377+2.70465j -1.3032 +0.48394j\n  0.     +0.j     ]\nalphas:        [-0.09356-0.43981j -0.28074-0.30166j -0.27864+0.35791j -0.10407-0.47128j\n -0.44665-0.21219j]\nphis (deg):    [   0.      -173.02557 -163.44704  110.61349  176.6657 ]\nthetas (deg):  [ -43.83304 -161.49725  -80.11525  -43.03418  153.31424]\nMax Fidelity:  0.035037\n\n\n"
     ]
    }
   ],
   "source": [
    "opt.print_info()"
   ]
  },
  {
   "cell_type": "code",
   "execution_count": null,
   "metadata": {},
   "outputs": [],
   "source": [
    "opt.filename"
   ]
  },
  {
   "cell_type": "code",
   "execution_count": null,
   "metadata": {},
   "outputs": [],
   "source": [
    "opt.optimize()"
   ]
  },
  {
   "cell_type": "code",
   "execution_count": 24,
   "metadata": {},
   "outputs": [],
   "source": [
    "sweeper = OptimizationSweeps(opt_object=opt)"
   ]
  },
  {
   "cell_type": "code",
   "execution_count": 25,
   "metadata": {
    "tags": []
   },
   "outputs": [
    {
     "output_type": "stream",
     "name": "stdout",
     "text": [
      "\n",
      "N_blocks: 2\n",
      "\n",
      "Start time: 2020-10-21 02:46:00 PM\n",
      " Epoch: 10 / 10 Max Fid: 0.499951 Avg Fid: 0.475790 Max dFid: 0.030848 Avg dFid: 0.008347 Elapsed time: 0:00:03.552815 Remaing time: 0:00:00\n",
      "\n",
      "Optimization stopped.  Reached maximum number of epochs. Terminal fidelity not reached.\n",
      "\n",
      "optimization_type: state transfer\n",
      "N_multistart: 5\n",
      "N_blocks: 2\n",
      "term_fid: 0.999\n",
      "dfid_stop: 1e-08\n",
      "no_CD_end: True\n",
      "name: Cat Creation\n",
      "learning_rate: 0.01\n",
      "epoch_size: 10\n",
      "epochs: 10\n",
      "beta_scale: 4.0\n",
      "alpha_scale: 0.5\n",
      "use_displacements: True\n",
      "comment: \n",
      "alpha_cat: (2+1j)\n",
      "N_cav: 60\n",
      "filename: Cat Creation.h5\n",
      "\n",
      "Best circuit parameters found:\n",
      "betas:         [0.7309+0.19398j 0.    +0.j     ]\n",
      "alphas:        [-0.80789-0.52412j -0.82492-0.37624j]\n",
      "phis (deg):    [  0.      177.52956]\n",
      "thetas (deg):  [-181.32327 -181.65219]\n",
      "Max Fidelity:  0.499970\n",
      "\n",
      "\n",
      "all data saved as: Cat Creation.h5\n",
      "termination reason: epochs\n",
      "optimization timestamp (start time): 2020-10-21 02:46:00 PM\n",
      "timestamp (end time): 2020-10-21 02:46:04 PM\n",
      "elapsed time: 0:00:03.592780\n",
      "Time per epoch (epoch size = 10): 0:00:00.359278\n",
      "Time per Adam step (N_multistart = 5, N_cav = 60): 0:00:00.035928\n",
      "\n",
      "N_blocks: 3\n",
      "\n",
      "Start time: 2020-10-21 02:46:04 PM\n",
      " Epoch: 10 / 10 Max Fid: 0.519610 Avg Fid: 0.469602 Max dFid: 0.030329 Avg dFid: 0.011829 Elapsed time: 0:00:04.158748 Remaing time: 0:00:00\n",
      "\n",
      "Optimization stopped.  Reached maximum number of epochs. Terminal fidelity not reached.\n",
      "\n",
      "optimization_type: state transfer\n",
      "N_multistart: 5\n",
      "N_blocks: 3\n",
      "term_fid: 0.999\n",
      "dfid_stop: 1e-08\n",
      "no_CD_end: True\n",
      "name: Cat Creation\n",
      "learning_rate: 0.01\n",
      "epoch_size: 10\n",
      "epochs: 10\n",
      "beta_scale: 4.0\n",
      "alpha_scale: 0.5\n",
      "use_displacements: True\n",
      "comment: \n",
      "alpha_cat: (2+1j)\n",
      "N_cav: 60\n",
      "filename: Cat Creation.h5\n",
      "\n",
      "Best circuit parameters found:\n",
      "betas:         [3.1763+0.63473j 0.6584+1.48547j 0.    +0.j     ]\n",
      "alphas:        [-0.12362+0.04007j -0.18673-0.05255j  0.26622+0.05056j]\n",
      "phis (deg):    [  0.      -74.86139 -51.50757]\n",
      "thetas (deg):  [-124.54223 -153.13344 -123.10497]\n",
      "Max Fidelity:  0.520430\n",
      "\n",
      "\n",
      "all data saved as: Cat Creation.h5\n",
      "termination reason: epochs\n",
      "optimization timestamp (start time): 2020-10-21 02:46:04 PM\n",
      "timestamp (end time): 2020-10-21 02:46:08 PM\n",
      "elapsed time: 0:00:04.192766\n",
      "Time per epoch (epoch size = 10): 0:00:00.419277\n",
      "Time per Adam step (N_multistart = 5, N_cav = 60): 0:00:00.041928\n"
     ]
    },
    {
     "output_type": "error",
     "ename": "TypeError",
     "evalue": "Can't broadcast (3,) -> (2,)",
     "traceback": [
      "\u001b[1;31m---------------------------------------------------------------------------\u001b[0m",
      "\u001b[1;31mTypeError\u001b[0m                                 Traceback (most recent call last)",
      "\u001b[1;32m<ipython-input-25-eb3fc204102c>\u001b[0m in \u001b[0;36m<module>\u001b[1;34m()\u001b[0m\n\u001b[1;32m----> 1\u001b[1;33m \u001b[0mtimestamps\u001b[0m \u001b[1;33m=\u001b[0m \u001b[0msweeper\u001b[0m\u001b[1;33m.\u001b[0m\u001b[0mN_blocks_sweep\u001b[0m\u001b[1;33m(\u001b[0m\u001b[0mmin_N_blocks\u001b[0m\u001b[1;33m=\u001b[0m\u001b[1;36m2\u001b[0m\u001b[1;33m,\u001b[0m \u001b[0mmax_N_blocks\u001b[0m\u001b[1;33m=\u001b[0m\u001b[1;36m4\u001b[0m\u001b[1;33m,\u001b[0m \u001b[0mterminate\u001b[0m\u001b[1;33m=\u001b[0m\u001b[1;32mTrue\u001b[0m\u001b[1;33m,\u001b[0m \u001b[0mdo_print\u001b[0m\u001b[1;33m=\u001b[0m\u001b[1;32mTrue\u001b[0m\u001b[1;33m)\u001b[0m\u001b[1;33m\u001b[0m\u001b[1;33m\u001b[0m\u001b[0m\n\u001b[0m",
      "\u001b[1;32mD:\\alec\\Projects\\CD_universal_control\\Simulations\\CD_control\\CD_control_optimization\\high_level_sweeps.py\u001b[0m in \u001b[0;36mN_blocks_sweep\u001b[1;34m(self, min_N_blocks, max_N_blocks, terminate, do_print, name)\u001b[0m\n\u001b[0;32m     35\u001b[0m                 \u001b[0mself\u001b[0m\u001b[1;33m.\u001b[0m\u001b[0msave_sweep_data\u001b[0m\u001b[1;33m(\u001b[0m\u001b[0msweep_name\u001b[0m\u001b[1;33m,\u001b[0m \u001b[0mtimestamps\u001b[0m\u001b[1;33m,\u001b[0m \u001b[0mbest_circuit\u001b[0m\u001b[1;33m,\u001b[0m \u001b[0mappend\u001b[0m\u001b[1;33m=\u001b[0m\u001b[1;32mFalse\u001b[0m\u001b[1;33m)\u001b[0m\u001b[1;33m\u001b[0m\u001b[1;33m\u001b[0m\u001b[0m\n\u001b[0;32m     36\u001b[0m             \u001b[1;32melse\u001b[0m\u001b[1;33m:\u001b[0m\u001b[1;33m\u001b[0m\u001b[1;33m\u001b[0m\u001b[0m\n\u001b[1;32m---> 37\u001b[1;33m                 \u001b[0mself\u001b[0m\u001b[1;33m.\u001b[0m\u001b[0msave_sweep_data\u001b[0m\u001b[1;33m(\u001b[0m\u001b[0msweep_name\u001b[0m\u001b[1;33m,\u001b[0m \u001b[0mtimestamps\u001b[0m\u001b[1;33m,\u001b[0m \u001b[0mbest_circuit\u001b[0m\u001b[1;33m,\u001b[0m \u001b[0mappend\u001b[0m\u001b[1;33m=\u001b[0m\u001b[1;32mTrue\u001b[0m\u001b[1;33m)\u001b[0m\u001b[1;33m\u001b[0m\u001b[1;33m\u001b[0m\u001b[0m\n\u001b[0m\u001b[0;32m     38\u001b[0m             \u001b[1;32mif\u001b[0m \u001b[0mterminate\u001b[0m\u001b[1;33m:\u001b[0m\u001b[1;33m\u001b[0m\u001b[1;33m\u001b[0m\u001b[0m\n\u001b[0;32m     39\u001b[0m                 \u001b[0mbest_fid\u001b[0m \u001b[1;33m=\u001b[0m \u001b[0mbest_circuit\u001b[0m\u001b[1;33m[\u001b[0m\u001b[1;34m\"fidelity\"\u001b[0m\u001b[1;33m]\u001b[0m\u001b[1;33m\u001b[0m\u001b[1;33m\u001b[0m\u001b[0m\n",
      "\u001b[1;32mD:\\alec\\Projects\\CD_universal_control\\Simulations\\CD_control\\CD_control_optimization\\high_level_sweeps.py\u001b[0m in \u001b[0;36msave_sweep_data\u001b[1;34m(self, sweep_name, timestamps, circuit_data, append, **kwargs)\u001b[0m\n\u001b[0;32m    114\u001b[0m \u001b[1;33m\u001b[0m\u001b[0m\n\u001b[0;32m    115\u001b[0m                 \u001b[0mf\u001b[0m\u001b[1;33m[\u001b[0m\u001b[0msweep_name\u001b[0m\u001b[1;33m]\u001b[0m\u001b[1;33m[\u001b[0m\u001b[1;34m\"fidelities\"\u001b[0m\u001b[1;33m]\u001b[0m\u001b[1;33m[\u001b[0m\u001b[1;33m-\u001b[0m\u001b[1;36m1\u001b[0m\u001b[1;33m]\u001b[0m \u001b[1;33m=\u001b[0m \u001b[0mcircuit_data\u001b[0m\u001b[1;33m[\u001b[0m\u001b[1;34m\"fidelity\"\u001b[0m\u001b[1;33m]\u001b[0m\u001b[1;33m\u001b[0m\u001b[1;33m\u001b[0m\u001b[0m\n\u001b[1;32m--> 116\u001b[1;33m                 \u001b[0mf\u001b[0m\u001b[1;33m[\u001b[0m\u001b[0msweep_name\u001b[0m\u001b[1;33m]\u001b[0m\u001b[1;33m[\u001b[0m\u001b[1;34m\"betas\"\u001b[0m\u001b[1;33m]\u001b[0m\u001b[1;33m[\u001b[0m\u001b[1;33m-\u001b[0m\u001b[1;36m1\u001b[0m\u001b[1;33m]\u001b[0m \u001b[1;33m=\u001b[0m \u001b[0mcircuit_data\u001b[0m\u001b[1;33m[\u001b[0m\u001b[1;34m\"betas\"\u001b[0m\u001b[1;33m]\u001b[0m\u001b[1;33m\u001b[0m\u001b[1;33m\u001b[0m\u001b[0m\n\u001b[0m\u001b[0;32m    117\u001b[0m                 \u001b[0mf\u001b[0m\u001b[1;33m[\u001b[0m\u001b[0msweep_name\u001b[0m\u001b[1;33m]\u001b[0m\u001b[1;33m[\u001b[0m\u001b[1;34m\"alphas\"\u001b[0m\u001b[1;33m]\u001b[0m\u001b[1;33m[\u001b[0m\u001b[1;33m-\u001b[0m\u001b[1;36m1\u001b[0m\u001b[1;33m]\u001b[0m \u001b[1;33m=\u001b[0m \u001b[0mcircuit_data\u001b[0m\u001b[1;33m[\u001b[0m\u001b[1;34m\"alphas\"\u001b[0m\u001b[1;33m]\u001b[0m\u001b[1;33m\u001b[0m\u001b[1;33m\u001b[0m\u001b[0m\n\u001b[0;32m    118\u001b[0m                 \u001b[0mf\u001b[0m\u001b[1;33m[\u001b[0m\u001b[0msweep_name\u001b[0m\u001b[1;33m]\u001b[0m\u001b[1;33m[\u001b[0m\u001b[1;34m\"phis\"\u001b[0m\u001b[1;33m]\u001b[0m\u001b[1;33m[\u001b[0m\u001b[1;33m-\u001b[0m\u001b[1;36m1\u001b[0m\u001b[1;33m]\u001b[0m \u001b[1;33m=\u001b[0m \u001b[0mcircuit_data\u001b[0m\u001b[1;33m[\u001b[0m\u001b[1;34m\"phis\"\u001b[0m\u001b[1;33m]\u001b[0m\u001b[1;33m\u001b[0m\u001b[1;33m\u001b[0m\u001b[0m\n",
      "\u001b[1;32mh5py\\_objects.pyx\u001b[0m in \u001b[0;36mh5py._objects.with_phil.wrapper\u001b[1;34m()\u001b[0m\n",
      "\u001b[1;32mh5py\\_objects.pyx\u001b[0m in \u001b[0;36mh5py._objects.with_phil.wrapper\u001b[1;34m()\u001b[0m\n",
      "\u001b[1;32mC:\\ProgramData\\Miniconda3\\envs\\tf\\lib\\site-packages\\h5py\\_hl\\dataset.py\u001b[0m in \u001b[0;36m__setitem__\u001b[1;34m(self, args, val)\u001b[0m\n\u001b[0;32m    705\u001b[0m             \u001b[0mmshape_pad\u001b[0m \u001b[1;33m=\u001b[0m \u001b[0mmshape\u001b[0m\u001b[1;33m\u001b[0m\u001b[1;33m\u001b[0m\u001b[0m\n\u001b[0;32m    706\u001b[0m         \u001b[0mmspace\u001b[0m \u001b[1;33m=\u001b[0m \u001b[0mh5s\u001b[0m\u001b[1;33m.\u001b[0m\u001b[0mcreate_simple\u001b[0m\u001b[1;33m(\u001b[0m\u001b[0mmshape_pad\u001b[0m\u001b[1;33m,\u001b[0m \u001b[1;33m(\u001b[0m\u001b[0mh5s\u001b[0m\u001b[1;33m.\u001b[0m\u001b[0mUNLIMITED\u001b[0m\u001b[1;33m,\u001b[0m\u001b[1;33m)\u001b[0m\u001b[1;33m*\u001b[0m\u001b[0mlen\u001b[0m\u001b[1;33m(\u001b[0m\u001b[0mmshape_pad\u001b[0m\u001b[1;33m)\u001b[0m\u001b[1;33m)\u001b[0m\u001b[1;33m\u001b[0m\u001b[1;33m\u001b[0m\u001b[0m\n\u001b[1;32m--> 707\u001b[1;33m         \u001b[1;32mfor\u001b[0m \u001b[0mfspace\u001b[0m \u001b[1;32min\u001b[0m \u001b[0mselection\u001b[0m\u001b[1;33m.\u001b[0m\u001b[0mbroadcast\u001b[0m\u001b[1;33m(\u001b[0m\u001b[0mmshape\u001b[0m\u001b[1;33m)\u001b[0m\u001b[1;33m:\u001b[0m\u001b[1;33m\u001b[0m\u001b[1;33m\u001b[0m\u001b[0m\n\u001b[0m\u001b[0;32m    708\u001b[0m             \u001b[0mself\u001b[0m\u001b[1;33m.\u001b[0m\u001b[0mid\u001b[0m\u001b[1;33m.\u001b[0m\u001b[0mwrite\u001b[0m\u001b[1;33m(\u001b[0m\u001b[0mmspace\u001b[0m\u001b[1;33m,\u001b[0m \u001b[0mfspace\u001b[0m\u001b[1;33m,\u001b[0m \u001b[0mval\u001b[0m\u001b[1;33m,\u001b[0m \u001b[0mmtype\u001b[0m\u001b[1;33m,\u001b[0m \u001b[0mdxpl\u001b[0m\u001b[1;33m=\u001b[0m\u001b[0mself\u001b[0m\u001b[1;33m.\u001b[0m\u001b[0m_dxpl\u001b[0m\u001b[1;33m)\u001b[0m\u001b[1;33m\u001b[0m\u001b[1;33m\u001b[0m\u001b[0m\n\u001b[0;32m    709\u001b[0m \u001b[1;33m\u001b[0m\u001b[0m\n",
      "\u001b[1;32mC:\\ProgramData\\Miniconda3\\envs\\tf\\lib\\site-packages\\h5py\\_hl\\selections.py\u001b[0m in \u001b[0;36mbroadcast\u001b[1;34m(self, target_shape)\u001b[0m\n\u001b[0;32m    297\u001b[0m                     \u001b[0mtshape\u001b[0m\u001b[1;33m.\u001b[0m\u001b[0mappend\u001b[0m\u001b[1;33m(\u001b[0m\u001b[0mt\u001b[0m\u001b[1;33m)\u001b[0m\u001b[1;33m\u001b[0m\u001b[1;33m\u001b[0m\u001b[0m\n\u001b[0;32m    298\u001b[0m                 \u001b[1;32melse\u001b[0m\u001b[1;33m:\u001b[0m\u001b[1;33m\u001b[0m\u001b[1;33m\u001b[0m\u001b[0m\n\u001b[1;32m--> 299\u001b[1;33m                     \u001b[1;32mraise\u001b[0m \u001b[0mTypeError\u001b[0m\u001b[1;33m(\u001b[0m\u001b[1;34m\"Can't broadcast %s -> %s\"\u001b[0m \u001b[1;33m%\u001b[0m \u001b[1;33m(\u001b[0m\u001b[0mtarget_shape\u001b[0m\u001b[1;33m,\u001b[0m \u001b[0mself\u001b[0m\u001b[1;33m.\u001b[0m\u001b[0mmshape\u001b[0m\u001b[1;33m)\u001b[0m\u001b[1;33m)\u001b[0m\u001b[1;33m\u001b[0m\u001b[1;33m\u001b[0m\u001b[0m\n\u001b[0m\u001b[0;32m    300\u001b[0m \u001b[1;33m\u001b[0m\u001b[0m\n\u001b[0;32m    301\u001b[0m         \u001b[1;32mif\u001b[0m \u001b[0many\u001b[0m\u001b[1;33m(\u001b[0m\u001b[1;33m[\u001b[0m\u001b[0mn\u001b[0m \u001b[1;33m>\u001b[0m \u001b[1;36m1\u001b[0m \u001b[1;32mfor\u001b[0m \u001b[0mn\u001b[0m \u001b[1;32min\u001b[0m \u001b[0mtarget\u001b[0m\u001b[1;33m]\u001b[0m\u001b[1;33m)\u001b[0m\u001b[1;33m:\u001b[0m\u001b[1;33m\u001b[0m\u001b[1;33m\u001b[0m\u001b[0m\n",
      "\u001b[1;31mTypeError\u001b[0m: Can't broadcast (3,) -> (2,)"
     ]
    }
   ],
   "source": [
    "timestamps = sweeper.N_blocks_sweep(min_N_blocks=2, max_N_blocks=4, terminate=True, do_print=True)"
   ]
  },
  {
   "cell_type": "code",
   "execution_count": 8,
   "metadata": {},
   "outputs": [
    {
     "output_type": "execute_result",
     "data": {
      "text/plain": [
       "['2020-10-21 02:27:48 PM', '2020-10-21 02:27:53 PM', '2020-10-21 02:27:59 PM']"
      ]
     },
     "metadata": {},
     "execution_count": 8
    }
   ],
   "source": [
    "timestamps"
   ]
  },
  {
   "cell_type": "code",
   "execution_count": null,
   "metadata": {},
   "outputs": [],
   "source": [
    "s = timestamps[0]\n",
    "if len(timestamps) > 1:\n",
    "    for t in timestamps:\n",
    "        s =s + ',' + t\n",
    "print(s)"
   ]
  },
  {
   "cell_type": "code",
   "execution_count": null,
   "metadata": {},
   "outputs": [],
   "source": [
    "a = 'c:/a/test.h5'"
   ]
  },
  {
   "cell_type": "code",
   "execution_count": null,
   "metadata": {},
   "outputs": [],
   "source": [
    "a.split(\".\")"
   ]
  },
  {
   "cell_type": "code",
   "execution_count": null,
   "metadata": {
    "tags": []
   },
   "outputs": [],
   "source": [
    "opt.optimize()"
   ]
  },
  {
   "cell_type": "code",
   "execution_count": 22,
   "metadata": {},
   "outputs": [],
   "source": [
    "c = opt.best_circuit()"
   ]
  },
  {
   "cell_type": "code",
   "execution_count": 23,
   "metadata": {},
   "outputs": [
    {
     "output_type": "execute_result",
     "data": {
      "text/plain": [
       "array([-2.9884157 -2.0530057j , -0.96175784+0.71433204j,\n",
       "        0.        +0.j        ], dtype=complex64)"
      ]
     },
     "metadata": {},
     "execution_count": 23
    }
   ],
   "source": [
    "c['betas']"
   ]
  },
  {
   "cell_type": "code",
   "execution_count": null,
   "metadata": {},
   "outputs": [],
   "source": [
    "opt.best_fidelity()"
   ]
  },
  {
   "cell_type": "code",
   "execution_count": null,
   "metadata": {},
   "outputs": [],
   "source": [
    "opt.print_info()"
   ]
  },
  {
   "cell_type": "code",
   "execution_count": null,
   "metadata": {},
   "outputs": [],
   "source": [
    "opt.modify_parameters(N_blocks = 10)"
   ]
  },
  {
   "cell_type": "code",
   "execution_count": null,
   "metadata": {},
   "outputs": [],
   "source": [
    "tf.is_tensor(qt.create(10))"
   ]
  },
  {
   "cell_type": "code",
   "execution_count": null,
   "metadata": {},
   "outputs": [],
   "source": [
    "filename = 'Cat Creation.h5'\n",
    "analysis = OptimizationAnalysis(filename=filename)\n",
    "bs = analysis.betas()"
   ]
  },
  {
   "cell_type": "code",
   "execution_count": null,
   "metadata": {},
   "outputs": [],
   "source": [
    "analysis.plot_fidelities()"
   ]
  },
  {
   "cell_type": "code",
   "execution_count": null,
   "metadata": {},
   "outputs": [],
   "source": [
    "analysis.plot_mag_betas()"
   ]
  },
  {
   "cell_type": "code",
   "execution_count": null,
   "metadata": {},
   "outputs": [],
   "source": [
    "analysis.plot_phase_betas()"
   ]
  },
  {
   "cell_type": "code",
   "execution_count": null,
   "metadata": {},
   "outputs": [],
   "source": [
    "analysis.plot_mag_alphas()"
   ]
  },
  {
   "cell_type": "code",
   "execution_count": null,
   "metadata": {},
   "outputs": [],
   "source": [
    "analysis.plot_phase_alphas()"
   ]
  },
  {
   "cell_type": "code",
   "execution_count": null,
   "metadata": {},
   "outputs": [],
   "source": [
    "analysis.plot_average_magnitude_alpha()"
   ]
  },
  {
   "cell_type": "code",
   "execution_count": null,
   "metadata": {},
   "outputs": [],
   "source": [
    "analysis.plot_average_magnitude_beta()"
   ]
  },
  {
   "cell_type": "code",
   "execution_count": null,
   "metadata": {},
   "outputs": [],
   "source": [
    "analysis.data[analysis.timestamps[-1]]"
   ]
  },
  {
   "cell_type": "code",
   "execution_count": null,
   "metadata": {},
   "outputs": [],
   "source": [
    "plt.figure(figsize=(8,6))\n",
    "if len(all_fids.shape)>1:\n",
    "    for fids in all_fids:\n",
    "        plt.semilogy(1-fids)\n",
    "else:\n",
    "    plt.semilogy(1-all_fids)\n",
    "plt.xlabel('epoch')\n",
    "plt.ylabel('infidelity')\n",
    "plt.title(\"100x batch optimization\")"
   ]
  },
  {
   "cell_type": "code",
   "execution_count": null,
   "metadata": {},
   "outputs": [],
   "source": [
    "opt.print_info()"
   ]
  },
  {
   "cell_type": "code",
   "execution_count": null,
   "metadata": {},
   "outputs": [],
   "source": [
    "betas, alphas, phis, thetas = opt.get_numpy_vars()"
   ]
  },
  {
   "cell_type": "code",
   "execution_count": null,
   "metadata": {},
   "outputs": [],
   "source": [
    "betas.T.shape"
   ]
  },
  {
   "cell_type": "code",
   "execution_count": null,
   "metadata": {},
   "outputs": [],
   "source": [
    "fids = opt.batch_state_fidelities(opt.betas_rho, opt.betas_angle, opt.alphas_rho, opt.alphas_angle, opt.phis, opt.thetas)"
   ]
  },
  {
   "cell_type": "code",
   "execution_count": null,
   "metadata": {},
   "outputs": [],
   "source": [
    "max_idx = tf.argmax(fids)[0,0].numpy()\n",
    "max_idx"
   ]
  },
  {
   "cell_type": "code",
   "execution_count": null,
   "metadata": {},
   "outputs": [],
   "source": [
    "fids[max_idx]"
   ]
  },
  {
   "cell_type": "code",
   "execution_count": null,
   "metadata": {},
   "outputs": [],
   "source": [
    "betas[max_idx]"
   ]
  },
  {
   "cell_type": "code",
   "execution_count": null,
   "metadata": {},
   "outputs": [],
   "source": [
    "with tf.device(\"XLA_GPU:0\"):\n",
    "    a = tf.constant(1.0)"
   ]
  },
  {
   "cell_type": "code",
   "execution_count": null,
   "metadata": {},
   "outputs": [],
   "source": [
    "from tensorflow.python.client import device_lib\n",
    "device_lib.list_local_devices()"
   ]
  },
  {
   "cell_type": "code",
   "execution_count": null,
   "metadata": {},
   "outputs": [],
   "source": [
    "tf.config.list_physical_devices()"
   ]
  },
  {
   "cell_type": "code",
   "execution_count": null,
   "metadata": {},
   "outputs": [],
   "source": [
    "chi_ab = 2*np.pi*1e-9*10"
   ]
  },
  {
   "cell_type": "code",
   "execution_count": null,
   "metadata": {},
   "outputs": [],
   "source": [
    "chi_ab"
   ]
  },
  {
   "cell_type": "code",
   "execution_count": null,
   "metadata": {},
   "outputs": [],
   "source": [
    "nbar = 1/(4*chi_ab*1000)\n",
    "nbar"
   ]
  },
  {
   "cell_type": "code",
   "execution_count": null,
   "metadata": {},
   "outputs": [],
   "source": [
    "np.sqrt(nbar)"
   ]
  },
  {
   "cell_type": "code",
   "execution_count": null,
   "metadata": {},
   "outputs": [],
   "source": []
  },
  {
   "cell_type": "code",
   "execution_count": null,
   "metadata": {},
   "outputs": [],
   "source": [
    "np.sqrt(400.0)"
   ]
  },
  {
   "cell_type": "code",
   "execution_count": null,
   "metadata": {},
   "outputs": [],
   "source": [
    "import h5py"
   ]
  },
  {
   "cell_type": "code",
   "execution_count": null,
   "metadata": {},
   "outputs": [],
   "source": [
    "data = np.array([1.0,2.0,3.0])\n",
    "with h5py.File('test.h5', \"w\") as f:\n",
    "    fidelities = f.create_dataset(\"fidelities\", data = data, maxshape=(None,))"
   ]
  },
  {
   "cell_type": "code",
   "execution_count": null,
   "metadata": {},
   "outputs": [],
   "source": [
    "with h5py.File('test.h5', \"a\") as f:\n",
    "    f['fidelities'].resize(4, axis=0)\n",
    "    f['fidelities'][-1] = 4.0"
   ]
  },
  {
   "cell_type": "code",
   "execution_count": null,
   "metadata": {},
   "outputs": [],
   "source": [
    "fs_MHz = np.linspace(0,0.2,201)\n",
    "omegas_MRadps = 2*np.pi*fs_MHz\n",
    "tau_us = 10\n",
    "argument = omegas_MRadps*tau_us/2/np.pi\n",
    "y = np.sinc(argument)**2\n"
   ]
  },
  {
   "cell_type": "code",
   "execution_count": null,
   "metadata": {},
   "outputs": [],
   "source": [
    "plt.figure(figsize=(4,3),dpi=200)\n",
    "plt.plot(fs_MHz*1e3, y, label='tau=10us')\n",
    "plt.xlabel('KHz')\n",
    "plt.ylabel('F')\n",
    "plt.legend(frameon=False)"
   ]
  },
  {
   "cell_type": "code",
   "execution_count": null,
   "metadata": {},
   "outputs": [],
   "source": []
  }
 ]
}